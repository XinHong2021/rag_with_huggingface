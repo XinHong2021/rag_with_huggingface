{
 "cells": [
  {
   "cell_type": "code",
   "execution_count": 3,
   "metadata": {},
   "outputs": [
    {
     "name": "stdout",
     "output_type": "stream",
     "text": [
      "版本信息已写入 version_info.txt 文件。\n"
     ]
    }
   ],
   "source": [
    "import pkg_resources\n",
    "import subprocess\n",
    "\n",
    "# 首先，确保安装了 requirements.txt 中的所有包\n",
    "subprocess.check_call([\"pip\", \"install\", \"-r\", \"requirements.txt\"])\n",
    "\n",
    "# 读取 requirements.txt 文件，获取软件包名称列表\n",
    "with open(\"requirements.txt\", \"r\") as f:\n",
    "    packages = f.readlines()\n",
    "packages = [pkg.strip() for pkg in packages]\n",
    "\n",
    "# 获取每个软件包的版本信息\n",
    "with open(\"version_info.txt\", \"w\") as output_file:\n",
    "    for pkg in packages:\n",
    "        if pkg == \"\" or pkg.startswith(\"#\"):  # 跳过空行和注释\n",
    "            continue\n",
    "        try:\n",
    "            # 尝试获取软件包版本\n",
    "            version = pkg_resources.get_distribution(pkg).version\n",
    "            output_file.write(f\"{pkg}=={version}\\n\")\n",
    "        except pkg_resources.DistributionNotFound:\n",
    "            # 如果软件包未安装，则记录一个错误消息\n",
    "            output_file.write(f\"{pkg}: Not Found\\n\")\n",
    "\n",
    "print(\"版本信息已写入 version_info.txt 文件。\")"
   ]
  },
  {
   "cell_type": "code",
   "execution_count": null,
   "metadata": {},
   "outputs": [],
   "source": []
  }
 ],
 "metadata": {
  "kernelspec": {
   "display_name": "transformers",
   "language": "python",
   "name": "python3"
  },
  "language_info": {
   "codemirror_mode": {
    "name": "ipython",
    "version": 3
   },
   "file_extension": ".py",
   "mimetype": "text/x-python",
   "name": "python",
   "nbconvert_exporter": "python",
   "pygments_lexer": "ipython3",
   "version": "3.10.13"
  }
 },
 "nbformat": 4,
 "nbformat_minor": 2
}
